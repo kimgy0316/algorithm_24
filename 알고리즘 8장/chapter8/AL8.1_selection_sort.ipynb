{
 "cells": [
  {
   "cell_type": "markdown",
   "metadata": {},
   "source": [
    "#### 1) 문제 정의 (MD)"
   ]
  },
  {
   "cell_type": "markdown",
   "metadata": {},
   "source": [
    "거스름돈 최소화 알고리즘(탐욕적 기법)"
   ]
  },
  {
   "cell_type": "markdown",
   "metadata": {},
   "source": [
    "#### 2) 알고리즘 설명  (MD)"
   ]
  },
  {
   "cell_type": "markdown",
   "metadata": {},
   "source": [
    "거스름돈의 액수 V가 주어지면 액면가가 가장 높은 동전을 이용하여 먼저 잔돈의 액수를 최대한으로 줄인다. 남은 액수는 다음 액면가의 동전을 최대한으로 사용하는 과정을 순서대로 반복한다."
   ]
  },
  {
   "cell_type": "markdown",
   "metadata": {},
   "source": [
    "####  3) 손으로 푼 예제 (MD, 이미지 삽입)"
   ]
  },
  {
   "cell_type": "markdown",
   "metadata": {},
   "source": []
  },
  {
   "cell_type": "markdown",
   "metadata": {},
   "source": [
    "#### 4) 알고리즘 개요(입력 변수, 출력, 알고리즘 개요) (MD)"
   ]
  },
  {
   "cell_type": "markdown",
   "metadata": {},
   "source": [
    "##### 함수명: min_coins_greedy(coins, V)\n",
    "##### 입력 변수: coins, V\n",
    "##### 출력: count"
   ]
  },
  {
   "cell_type": "markdown",
   "metadata": {},
   "source": [
    "#### 5) 알고리즘 코드 (PY,C)"
   ]
  },
  {
   "cell_type": "code",
   "execution_count": 4,
   "metadata": {},
   "outputs": [],
   "source": [
    "def min_coins_greedy(coins, V):\n",
    "    count = []\n",
    "    remaining_value = V  # V를 새로운 변수로 복사하여 사용\n",
    "    for i in range(len(coins)):\n",
    "        cnt = remaining_value // coins[i]\n",
    "        count.append(cnt)\n",
    "        remaining_value -= cnt * coins[i]\n",
    "    return count"
   ]
  },
  {
   "cell_type": "markdown",
   "metadata": {},
   "source": [
    "#### 6) 테스트 코드  (PY,C) , 입력을 바꾸어서"
   ]
  },
  {
   "cell_type": "code",
   "execution_count": 5,
   "metadata": {},
   "outputs": [
    {
     "name": "stdout",
     "output_type": "stream",
     "text": [
      "잔돈 액수 =  580\n",
      "동전 종류 =  [500, 100, 50, 10, 5, 1]\n",
      "동전 개수 =  [1, 0, 1, 3, 0, 0]\n"
     ]
    }
   ],
   "source": [
    "coins = [500, 100, 50, 10, 5, 1]\n",
    "V = 580\n",
    "print(\"잔돈 액수 = \", V)\n",
    "print(\"동전 종류 = \", coins)\n",
    "print(\"동전 개수 = \", min_coins_greedy(coins, V))"
   ]
  },
  {
   "cell_type": "markdown",
   "metadata": {},
   "source": [
    "#### 7) 수행 결과 (MD, 결과 캡춰하여 이미지로 삽입)"
   ]
  },
  {
   "attachments": {
    "image.png": {
     "image/png": "[encoded data removed]"
    }
   },
   "cell_type": "markdown",
   "metadata": {},
   "source": [
    "![image.png](attachment:image.png)"
   ]
  },
  {
   "cell_type": "markdown",
   "metadata": {},
   "source": [
    "#### 8) 복잡도 분석"
   ]
  },
  {
   "cell_type": "markdown",
   "metadata": {},
   "source": [
    "O(m)"
   ]
  },
  {
   "cell_type": "markdown",
   "metadata": {},
   "source": [
    "#### 9) 조별 협력 내용 (상호 지도)"
   ]
  },
  {
   "cell_type": "markdown",
   "metadata": {},
   "source": [
    "실습시간 중 이해가 되지 않는 부분에 대해 팀원들과 모여 상의하며 문제를 해결해 나아갔습니다."
   ]
  }
 ],
 "metadata": {
  "kernelspec": {
   "display_name": "Python 3",
   "language": "python",
   "name": "python3"
  },
  "language_info": {
   "codemirror_mode": {
    "name": "ipython",
    "version": 3
   },
   "file_extension": ".py",
   "mimetype": "text/x-python",
   "name": "python",
   "nbconvert_exporter": "python",
   "pygments_lexer": "ipython3",
   "version": "3.12.2"
  }
 },
 "nbformat": 4,
 "nbformat_minor": 2
}
