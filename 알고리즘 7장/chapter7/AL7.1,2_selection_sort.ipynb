{
 "cells": [
  {
   "cell_type": "markdown",
   "metadata": {},
   "source": [
    "#### 1) 문제 정의 (MD)"
   ]
  },
  {
   "cell_type": "markdown",
   "metadata": {},
   "source": [
    "피보나치 수열(메모이제이션 이용)"
   ]
  },
  {
   "cell_type": "markdown",
   "metadata": {},
   "source": [
    "#### 2) 알고리즘 설명  (MD)"
   ]
  },
  {
   "cell_type": "markdown",
   "metadata": {},
   "source": [
    "##### 메모이제이션 : 함수의 결과를 저장할 메모리 공간을 준비해 두고, 한번 계산한 값을 저장해 두었다가 재활용하는 최적화 \n",
    "----------------------------------------------------------------\n",
    "##### 7.1 문제를 풀 때마다 이미 풀린 문제인지를 먼저 확인한다. 풀린 문제이면 저장된 답을 이용하고, 풀리지 않은 문제이면 그 문제를 풀고 답을 다시 저장한다.\n",
    "----------------------------------------------------------------\n",
    "##### 7.2 결과를 저장할 테이블을 먼저 만든다. 다음으로 답이 이미 알려진 단순한 상황, 즉 기반 상황에 대한 테이블 항목을 먼저 채우고, 이들을 바탕으로 테이블을 채워서 올라간다."
   ]
  },
  {
   "cell_type": "markdown",
   "metadata": {},
   "source": [
    "####  3) 손으로 푼 예제 (MD, 이미지 삽입)"
   ]
  },
  {
   "cell_type": "markdown",
   "metadata": {},
   "source": []
  },
  {
   "cell_type": "markdown",
   "metadata": {},
   "source": [
    "#### 4) 알고리즘 개요(입력 변수, 출력, 알고리즘 개요) (MD)"
   ]
  },
  {
   "cell_type": "markdown",
   "metadata": {},
   "source": [
    "##### 함수명: \n",
    "##### 입력 변수: \n",
    "##### 출력: "
   ]
  },
  {
   "cell_type": "markdown",
   "metadata": {},
   "source": [
    "#### 5) 알고리즘 코드 (PY,C)"
   ]
  },
  {
   "cell_type": "code",
   "execution_count": 7,
   "metadata": {},
   "outputs": [],
   "source": [
    "def fib_dp_tab(n):\n",
    "    f=[None]*(n+1)\n",
    "    f[0]=0\n",
    "    f[1]=1\n",
    "    for i in range(2, n+1):\n",
    "        f[i]=f[i-1]+f[i-2]\n",
    "    return f[n]\n",
    "\n",
    "def fib_dp_mem(n):\n",
    "    if(mem[n]==None):\n",
    "        if n<2:\n",
    "            mem[n]=n\n",
    "        else:\n",
    "            mem[n]=fib_dp_mem(n-1)+fib_dp_mem(n-2)\n",
    "    return mem[n]"
   ]
  },
  {
   "cell_type": "markdown",
   "metadata": {},
   "source": [
    "#### 6) 테스트 코드  (PY,C) , 입력을 바꾸어서"
   ]
  },
  {
   "cell_type": "code",
   "execution_count": 9,
   "metadata": {},
   "outputs": [
    {
     "name": "stdout",
     "output_type": "stream",
     "text": [
      "동적계획(테이블화): Fibonacci(8)= 21\n",
      "동적계획(메모이제이션):Fibonacci(8)= 21\n"
     ]
    }
   ],
   "source": [
    "n=8\n",
    "print('동적계획(테이블화): Fibonacci(%d)='%n, fib_dp_tab(n))\n",
    "mem=[None]*(n+1)\n",
    "print('동적계획(메모이제이션):Fibonacci(%d)='%n, fib_dp_mem(n))"
   ]
  },
  {
   "cell_type": "markdown",
   "metadata": {},
   "source": [
    "#### 7) 수행 결과 (MD, 결과 캡춰하여 이미지로 삽입)"
   ]
  },
  {
   "attachments": {
    "image.png": {
     "image/png": "[encoded data removed]"
    }
   },
   "cell_type": "markdown",
   "metadata": {},
   "source": [
    "![image.png](attachment:image.png)"
   ]
  },
  {
   "cell_type": "markdown",
   "metadata": {},
   "source": [
    "#### 8) 복잡도 분석"
   ]
  },
  {
   "cell_type": "markdown",
   "metadata": {},
   "source": [
    "##### 모든 부분 문제를 정확히 한 번씩 처리하고, 이러한 부분 문제의 수가 n개이다. 따라서 시간 복잡도는 O(n)이다.\n",
    "------------------------------------------------------------------\n",
    "##### 답은 저장하기 위한 테이블 mem이 주가적으로 필요하고, 크기는 n+1이다. 따라서 공간 복잡도는 O(n)이다.\n",
    "------------------------------------------------------------------\n",
    "##### 순환호출을 사용하지 않고, 5행에서 n번 반복하는 하나의 루프를 사용하므로 시간복잡도는 O(n)이다."
   ]
  },
  {
   "cell_type": "markdown",
   "metadata": {},
   "source": [
    "#### 9) 조별 협력 내용 (상호 지도)"
   ]
  },
  {
   "cell_type": "markdown",
   "metadata": {},
   "source": [
    "실습시간 중 이해가 되지 않는 부분에 대해 팀원들과 모여 상의하며 문제를 해결해 나아갔습니다."
   ]
  }
 ],
 "metadata": {
  "kernelspec": {
   "display_name": "Python 3",
   "language": "python",
   "name": "python3"
  },
  "language_info": {
   "codemirror_mode": {
    "name": "ipython",
    "version": 3
   },
   "file_extension": ".py",
   "mimetype": "text/x-python",
   "name": "python",
   "nbconvert_exporter": "python",
   "pygments_lexer": "ipython3",
   "version": "3.12.2"
  }
 },
 "nbformat": 4,
 "nbformat_minor": 2
}
