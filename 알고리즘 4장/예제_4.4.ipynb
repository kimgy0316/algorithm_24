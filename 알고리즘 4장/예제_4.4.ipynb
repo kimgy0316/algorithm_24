{
 "cells": [
  {
   "cell_type": "markdown",
   "metadata": {},
   "source": [
    "### 1) 문제 정의 (MD)"
   ]
  },
  {
   "cell_type": "markdown",
   "metadata": {},
   "source": [
    "#### 방향 그래프 G=(V, E)가 주어졌다. G에 존재하는 각 정점들의 선행 순서를 위배하지 않으면서 모든 정점들을 순서대로 나열하라."
   ]
  },
  {
   "cell_type": "markdown",
   "metadata": {},
   "source": [
    "###  2) 알고리즘 설명  (MD)"
   ]
  },
  {
   "cell_type": "markdown",
   "metadata": {},
   "source": [
    "#### <DFS 기반 알고리즘(억지기법)>\n",
    "#### : 억지 기법으로 그래프의 모든 정점을 한 번씩 방문하는 체계적인 방법이다. \n",
    "#### -먼저, 그래프에서 진입차수가 0인 임의의 정점을 시작 정점으로 선택한다. 만약 이런 정점이 없으면 위상정렬이 불가능한 그래프이다.\n",
    "#### -시작 정점을 방문하고 인접 정점들의 진입차수를 감소시킨다. 다음으로 깊이 우선 탐색으로 진입차수가 0인 인접 정점을 선택해 방문하고, 그 정점의 인접 정점의 진입차수를 감소시킨다.\n",
    "#### -만약 더 이상 갈 수 있는 정점이 없으면 아직 선택하지 않은 진입차수가 0인 정점을 다시 선택한다. 이 정점을 시작으로 DFS를 다시 진행한다. 이때, 이미 방문한 정점은 더 이상 방문하지 않아야 함에 유의하라.\n",
    "#### --------------------------------------------------------------\n",
    "#### <축소 정복 기법의 알고리즘>\n",
    "#### -방향 그래프에서 진입차수가 0인 정점(선수과목이 없어 바로 수강할 수 있는 과목)중에서 하나를 입의로 선택한다.\n",
    "#### -선택된 정점을 삭제한다. 정점이 삭제되므로 이 정점에서 진출하는 모든 간선들도 삭제한다. (이미 수강했으므로), 이때, 간선이 삭제되므로 삭제되는 간선과 연결된 이웃 정점들의 진입차수는 갱신되어야 한다.\n",
    "#### -이 과정을 모든 정점이 삭제될 때까지 반복한다. 정점이 삭제되는 순서가 위상 순서이다."
   ]
  },
  {
   "cell_type": "markdown",
   "metadata": {},
   "source": [
    "###  3) 손으로 푼 예제 (MD, 이미지 삽입)"
   ]
  },
  {
   "cell_type": "markdown",
   "metadata": {},
   "source": []
  },
  {
   "cell_type": "markdown",
   "metadata": {},
   "source": [
    "### 4) 코드 개요(입력 변수, 출력, 함수 설명) (MD)"
   ]
  },
  {
   "cell_type": "markdown",
   "metadata": {},
   "source": [
    "이름 개요 파라미터?"
   ]
  },
  {
   "cell_type": "markdown",
   "metadata": {},
   "source": [
    "### 5) 코드 (PY,C)"
   ]
  },
  {
   "cell_type": "code",
   "execution_count": null,
   "metadata": {},
   "outputs": [],
   "source": [
    "def topological_sort(graph) :\n",
    "    inDeg = {}\n",
    "    for v in graph :\n",
    "        inDeg[v]=0\n",
    "    for v in graph :\n",
    "        for u in graph[v]:\n",
    "            inDeg[u]+=1\n",
    "\n",
    "vlist = []\n",
    "for v in graph:\n",
    "    if inDeg[v]==0 :\n",
    "        visit.append(v)\n",
    "\n",
    "while vlist :\n",
    "    v= vlist.pop()"
   ]
  },
  {
   "cell_type": "markdown",
   "metadata": {},
   "source": [
    "### 6) 테스트 코드  (PY,C) , 입력을 바꾸어서"
   ]
  },
  {
   "cell_type": "code",
   "execution_count": 22,
   "metadata": {},
   "outputs": [
    {
     "name": "stdout",
     "output_type": "stream",
     "text": [
      "topological_sort: \n",
      "BEACDF\n"
     ]
    }
   ],
   "source": [
    "def topological_sort(graph) :\n",
    "    inDeg = {}\n",
    "    for v in graph :\n",
    "        inDeg[v]=0\n",
    "    for v in graph :\n",
    "        for u in graph[v]:\n",
    "            inDeg[u] += 1\n",
    "\n",
    "    vlist = []\n",
    "    for v in graph:\n",
    "        if inDeg[v]==0 :\n",
    "            vlist.append(v)\n",
    "\n",
    "    while vlist :\n",
    "        v= vlist.pop()  \n",
    "        print(v, end='')\n",
    "        for u in graph[v]:\n",
    "            inDeg[u] -= 1\n",
    "            if inDeg[u] == 0:\n",
    "                vlist.append(u)\n",
    "\n",
    "mygraph = {\"A\" : {\"C\", \"D\"}, \"B\" : {\"D\", \"E\"}, \"C\" : {\"D\", \"F\"}, \"D\" : {\"F\"}, \"E\" : {\"F\"}, \"F\" : {}}\n",
    "print('topological_sort: ')\n",
    "topological_sort(mygraph)\n",
    "print()"
   ]
  },
  {
   "cell_type": "markdown",
   "metadata": {},
   "source": [
    "### 7) 수행 결과 (MD, 결과 캡춰하여 이미지로 삽입)"
   ]
  },
  {
   "cell_type": "markdown",
   "metadata": {},
   "source": []
  },
  {
   "cell_type": "markdown",
   "metadata": {},
   "source": [
    "### 8) 복잡도 분석 (MD)"
   ]
  },
  {
   "cell_type": "markdown",
   "metadata": {},
   "source": []
  },
  {
   "cell_type": "markdown",
   "metadata": {},
   "source": [
    "### 9) 협력 내용(조별, 팀별)"
   ]
  },
  {
   "cell_type": "markdown",
   "metadata": {},
   "source": []
  }
 ],
 "metadata": {
  "kernelspec": {
   "display_name": "Python 3",
   "language": "python",
   "name": "python3"
  },
  "language_info": {
   "codemirror_mode": {
    "name": "ipython",
    "version": 3
   },
   "file_extension": ".py",
   "mimetype": "text/x-python",
   "name": "python",
   "nbconvert_exporter": "python",
   "pygments_lexer": "ipython3",
   "version": "3.12.2"
  }
 },
 "nbformat": 4,
 "nbformat_minor": 2
}
