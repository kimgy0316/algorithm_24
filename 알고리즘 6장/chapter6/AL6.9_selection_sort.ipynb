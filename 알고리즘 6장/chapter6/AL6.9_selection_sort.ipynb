{
 "cells": [
  {
   "cell_type": "markdown",
   "metadata": {},
   "source": [
    "### 1)문제 정의"
   ]
  },
  {
   "cell_type": "markdown",
   "metadata": {},
   "source": [
    "문자열 탐색키의 해시 함수 계산"
   ]
  },
  {
   "cell_type": "markdown",
   "metadata": {},
   "source": [
    "### 2) 알고리즘 설명"
   ]
  },
  {
   "cell_type": "markdown",
   "metadata": {},
   "source": [
    "탐색키가 문자열인 경우는 보통 각 문자에 정수를 대응시켜 바꾸게 된다.\n",
    "문자열 key를 받아 각 문자의 코드 값을 모두 더하고 이를 테이블 크기 M으로 나머지 연산하여 주소를 계산하는 해시함수의 예이다."
   ]
  },
  {
   "cell_type": "markdown",
   "metadata": {},
   "source": [
    "### 3) 손으로 푼 예제"
   ]
  },
  {
   "cell_type": "markdown",
   "metadata": {},
   "source": []
  },
  {
   "cell_type": "markdown",
   "metadata": {},
   "source": [
    "### 4) 코드 개요"
   ]
  },
  {
   "cell_type": "markdown",
   "metadata": {},
   "source": [
    "함수명 : def hashFn(key), 문자열 탐색키의 해시 함수 계산\n",
    "입력값 : key\n",
    "출력값 : sum % M, 문자열 key를 받아 각 문자의 코드 값을 모두 더하고 이를 테이블 크기 M으로 나머지 연산하여 주소를 계산한 값"
   ]
  },
  {
   "cell_type": "markdown",
   "metadata": {},
   "source": [
    "### 5) 코드"
   ]
  },
  {
   "cell_type": "code",
   "execution_count": null,
   "metadata": {},
   "outputs": [],
   "source": [
    "def hachFn(key) :\n",
    "    sum = 0\n",
    "    for c in key :\n",
    "        sum = sum + ord(c)\n",
    "    return sum % M"
   ]
  },
  {
   "cell_type": "markdown",
   "metadata": {},
   "source": [
    "### 6)코드 테스트"
   ]
  },
  {
   "cell_type": "code",
   "execution_count": 1,
   "metadata": {},
   "outputs": [
    {
     "name": "stdout",
     "output_type": "stream",
     "text": [
      "키 'hello'의 해시 값은 2입니다.\n"
     ]
    }
   ],
   "source": [
    "def hachFn(key, M):\n",
    "    sum = 0\n",
    "    for c in key:\n",
    "        sum = sum + ord(c)\n",
    "    return sum % M\n",
    "\n",
    "test_key = \"hello\"\n",
    "test_M = 10\n",
    "\n",
    "value = hachFn(test_key, test_M)\n",
    "\n",
    "print(\"키 '{}'의 해시 값은 {}입니다.\".format(test_key, value))\n"
   ]
  },
  {
   "cell_type": "markdown",
   "metadata": {},
   "source": [
    "### 7) 수행결과"
   ]
  },
  {
   "attachments": {
    "image.png": {
     "image/png": "[encoded data removed]"
    }
   },
   "cell_type": "markdown",
   "metadata": {},
   "source": [
    "![image.png](attachment:image.png)"
   ]
  },
  {
   "cell_type": "markdown",
   "metadata": {},
   "source": [
    "### 8) 복잡도 분석"
   ]
  },
  {
   "cell_type": "markdown",
   "metadata": {},
   "source": [
    "충돌이 전혀 일어나지 않은 상황인 최선의 경우엔 O(1)이고,\n",
    "모든 키가 하나의 버킷으로 집중되는 가장 불리한 입력(최악의 경우)에 대한 시간 복잡도는 O(n)이다."
   ]
  },
  {
   "cell_type": "markdown",
   "metadata": {},
   "source": [
    "### 9) 협력내용"
   ]
  },
  {
   "cell_type": "markdown",
   "metadata": {},
   "source": [
    "실습시간 중 이해가 되지 않는 부분에 대해 팀원들과 모여 상의하며 문제를 해결해 나아갔습니다."
   ]
  }
 ],
 "metadata": {
  "kernelspec": {
   "display_name": "Python 3",
   "language": "python",
   "name": "python3"
  },
  "language_info": {
   "codemirror_mode": {
    "name": "ipython",
    "version": 3
   },
   "file_extension": ".py",
   "mimetype": "text/x-python",
   "name": "python",
   "nbconvert_exporter": "python",
   "pygments_lexer": "ipython3",
   "version": "3.12.2"
  }
 },
 "nbformat": 4,
 "nbformat_minor": 2
}
