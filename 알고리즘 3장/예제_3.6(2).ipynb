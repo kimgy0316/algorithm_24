{
 "cells": [
  {
   "cell_type": "code",
   "execution_count": null,
   "metadata": {},
   "outputs": [],
   "source": [
    "import queue\n",
    "\n",
    "def bfs(graph, start):\n",
    "    visited = {start}\n",
    "    que = queue.Queue()\n",
    "    que.put(start)\n",
    "    while not que.empty():\n",
    "        v = que.get()\n",
    "        print(v, end='')\n",
    "        nbr = graph[v] - visited\n",
    "        for u in nbr:\n",
    "            visited.add(u)\n",
    "            que.put(u)\n",
    "\n",
    "mygraph = {\"A\": {\"B\", \"C\"},\n",
    "           \"B\": {\"A\", \"D\"},\n",
    "           \"C\": {\"A\", \"D\", \"E\"},\n",
    "           \"D\": {\"B\", \"C\", \"F\"},\n",
    "           \"E\": {\"C\", \"G\", \"H\"},\n",
    "           \"F\": {\"D\"},\n",
    "           \"G\": {\"E\", \"H\"},\n",
    "           \"H\": {\"E\", \"G\"},\n",
    "           }\n",
    "\n",
    "print('BFS:', end='')\n",
    "bfs(mygraph, \"A\")\n",
    "print()"
   ]
  }
 ],
 "metadata": {
  "language_info": {
   "name": "python"
  }
 },
 "nbformat": 4,
 "nbformat_minor": 2
}
