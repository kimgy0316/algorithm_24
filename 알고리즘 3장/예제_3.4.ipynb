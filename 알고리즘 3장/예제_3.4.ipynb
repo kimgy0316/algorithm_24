def closest_pair(p):
  n=len(p)
  mindist = float("inf)
  for i in range(n-1):
      dist=sidtance(p[i], p[j])
      if dist < mindist:
         mindist