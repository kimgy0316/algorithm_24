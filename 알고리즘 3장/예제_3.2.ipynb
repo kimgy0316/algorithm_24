{
 "cells": [
  {
   "cell_type": "code",
   "execution_count": null,
   "metadata": {},
   "outputs": [],
   "source": [
    "def sequential_search(A, key):\n",
    "    for i in range(len(A)):\n",
    "        if A[i] == key:\n",
    "            return i\n",
    "    return -1\n",
    "result = sequential_search([5,3,8,4,2,7], 1)\n",
    "print(result)   "
   ]
  }
 ],
 "metadata": {
  "language_info": {
   "name": "python"
  }
 },
 "nbformat": 4,
 "nbformat_minor": 2
}
