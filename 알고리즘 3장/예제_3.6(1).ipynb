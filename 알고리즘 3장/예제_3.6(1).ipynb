{
 "cells": [
  {
   "cell_type": "code",
   "execution_count": null,
   "metadata": {},
   "outputs": [],
   "source": [
    "def dfs(graph, start, visited):\n",
    "    if start not in visited:\n",
    "        visited.add(start)\n",
    "        print(start, end='')  \n",
    "        nbr = graph[start] - visited  \n",
    "        for v in nbr:\n",
    "            dfs(graph, v, visited)\n",
    "\n",
    "mygraph = {\"A\": {\"B\", \"C\"},\n",
    "           \"B\": {\"A\", \"D\"},\n",
    "           \"C\": {\"A\", \"D\", \"E\"},\n",
    "           \"D\": {\"B\", \"C\", \"F\"},\n",
    "           \"E\": {\"C\", \"G\", \"H\"},\n",
    "           \"F\": {\"D\"},\n",
    "           \"G\": {\"E\", \"H\"},\n",
    "           \"H\": {\"E\", \"G\"},\n",
    "           }\n",
    "print('DFS:', end='')\n",
    "dfs(mygraph, \"A\", set())"
   ]
  }
 ],
 "metadata": {
  "language_info": {
   "name": "python"
  }
 },
 "nbformat": 4,
 "nbformat_minor": 2
}
