{
 "cells": [
  {
   "cell_type": "markdown",
   "metadata": {},
   "source": [
    "### 1) 문제 정의 (MD)"
   ]
  },
  {
   "cell_type": "markdown",
   "metadata": {},
   "source": [
    "#### 물건들의 가치의 합이 최대가 되도록 배낭을 채우고, 이때 배낭의 최대가치를 구하라. 이때, 물건들은 잘라서 일부분만 넣을 수는 없다.(무게 wti, 가치 vali, 물건의 개수 n, 배낭에 넣을 수 있는 최대 용량)"
   ]
  },
  {
   "cell_type": "markdown",
   "metadata": {},
   "source": [
    "### 2) 알고리즘 설명"
   ]
  },
  {
   "cell_type": "markdown",
   "metadata": {},
   "source": [
    "#### 깊이 우선 탐색은 스택을 이용한 미로 탐색과 유사하다. 미로를 탐색할 때 한 방향으로 갈 수 있을 때까지 계속 가다가 더 이상 갈 수 없게 되면 다시 가장 가까운 갈림길로 되돌아와서 다른 방향을 다시 탐색하는 전략으로 출구를 찾는 방법이다."
   ]
  },
  {
   "cell_type": "markdown",
   "metadata": {},
   "source": [
    "###   3) 손으로 푼 예제 (MD, 이미지 삽입)"
   ]
  },
  {
   "cell_type": "markdown",
   "metadata": {},
   "source": []
  },
  {
   "cell_type": "markdown",
   "metadata": {},
   "source": [
    "###  4) 코드 개요(입력 변수, 출력, 알고리즘 개요) (MD)"
   ]
  },
  {
   "cell_type": "markdown",
   "metadata": {},
   "source": [
    "#### 1행 : 입력 그래프 graph는 인접 리스트(딕셔너리와 집합)로 표현되어 있다. start는 현재 정점이고, visited는 이미 방문한 집합이다. 맨 처음에는 vidited가 공집합으로 호출되야 한다.\n",
    "\n",
    "#### 2행 : 현재 정점(start)를 (visited)에 포함되지 않으면\n",
    "\n",
    "#### 3행 : 이제 방문했으므로 start를 visited에 추가한다.\n",
    "\n",
    "#### 4행 :  현재 정점 start를 방문한다고 화면에 출력(또는 정점에서 필요한 처리)\n",
    "\n",
    "#### 5행 : graph(start)는 정점 start의 인접 정점 집합이므로 이 집합과 visited의 차집합 nbr을 구함. nbr은 start의 인접 정점 중에서 아직 방문하지 않은 정점들을 포함하고 있음.\n",
    "\n",
    "#### 6~7행 : 집합 nbr의 모든 원소 v에 대해 dts(v)를 순환적으로 호출함."
   ]
  },
  {
   "cell_type": "markdown",
   "metadata": {},
   "source": [
    "### 5) 알고리즘 코드 (PY,C)"
   ]
  },
  {
   "cell_type": "code",
   "execution_count": null,
   "metadata": {},
   "outputs": [],
   "source": [
    "def bfs(graph, start):\n",
    "    visited = { start }\n",
    "    que = queue.Queue()\n",
    "    que.put(start)\n",
    "    while not que.empty():\n",
    "        v = que.get()\n",
    "        print(v, end= \" \")\n",
    "        nbr = sorted(graph[v] - visited)\n",
    "        for u in nbr:\n",
    "            visited.add(u)\n",
    "            que.put(u)"
   ]
  },
  {
   "cell_type": "markdown",
   "metadata": {},
   "source": [
    "### 6) 테스트 코드  (PY,C) , 입력을 바꾸어서"
   ]
  },
  {
   "cell_type": "code",
   "execution_count": null,
   "metadata": {},
   "outputs": [],
   "source": [
    "import queue\n",
    "def bfs(graph, start):\n",
    "    visited = { start }\n",
    "    que = queue.Queue()\n",
    "    que.put(start)\n",
    "    while not que.empty():\n",
    "        v = que.get()\n",
    "        print(v, end= \" \")\n",
    "        nbr = sorted(graph[v] - visited)\n",
    "        for u in nbr:\n",
    "            visited.add(u)\n",
    "            que.put(u)\n",
    "\n",
    "mygraph =  {\"A\":{\"B\", \"C\"}, \"B\":{\"A\", \"D\"}, \"C\":{\"A\", \"D\", \"E\"}, \"D\":{\"B\", \"C\", \"F\"}, \"E\":{\"C\", \"G\", \"H\"}, \"F\":{\"D\"}, \"G\":{\"E\", \"H\"}, \"H\":{\"E\", \"G\"}}\n",
    "\n",
    "print('BFS : ', end= \" \")\n",
    "bfs(mygraph, \"A\")\n",
    "print()"
   ]
  },
  {
   "cell_type": "markdown",
   "metadata": {},
   "source": [
    "### 7) 수행 결과 (MD, 결과 캡춰하여 이미지로 삽입)"
   ]
  },
  {
   "cell_type": "markdown",
   "metadata": {},
   "source": [
    "### 8) 복잡도 분석"
   ]
  },
  {
   "cell_type": "markdown",
   "metadata": {},
   "source": [
    "### 9) 조별 협력 내용 (상호 지도)"
   ]
  }
 ],
 "metadata": {
  "language_info": {
   "name": "python"
  }
 },
 "nbformat": 4,
 "nbformat_minor": 2
}
