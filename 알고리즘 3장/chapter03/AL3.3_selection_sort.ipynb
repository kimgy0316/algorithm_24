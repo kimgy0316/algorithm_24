{
 "cells": [
  {
   "cell_type": "markdown",
   "metadata": {},
   "source": [
    "### 1) 문제 정의 (MD)"
   ]
  },
  {
   "cell_type": "markdown",
   "metadata": {},
   "source": [
    "#### 텍스트의 첫 번째 위치에 패턴을 놓고 비교한다. 이 과정을 패턴을 오른쪽으로 한 칸씩 옮기면서 성공한 매칭이 나타날 때까지 반복한다."
   ]
  },
  {
   "cell_type": "markdown",
   "metadata": {},
   "source": [
    "### 2) 알고리즘 설명  (MD)"
   ]
  },
  {
   "cell_type": "markdown",
   "metadata": {},
   "source": [
    "##### 텍스트의 첫 번째 문자 위치에 패턴을 놓고 비교한다. 이 과정을 패텅을 오른쪽으로 한 칸씩 옮기면서 성공한 매칭이 나타날 때까지 반복한다."
   ]
  },
  {
   "cell_type": "markdown",
   "metadata": {},
   "source": [
    "###  3) 손으로 푼 예제 (MD, 이미지 삽입)"
   ]
  },
  {
   "cell_type": "markdown",
   "metadata": {},
   "source": []
  },
  {
   "cell_type": "markdown",
   "metadata": {},
   "source": [
    "### 4) 알고리즘 개요(입력 변수, 출력, 알고리즘 개요) (MD)"
   ]
  },
  {
   "cell_type": "markdown",
   "metadata": {},
   "source": [
    "#### 1행 : 억지 기법 문자열 매칭 알고리즘이고 입력 문자열 T와 패턴 P가 입력\n",
    "\n",
    "#### 4행 : 모든 가능한 패턴의 위치에 대한 범위(범위에 유의)\n",
    "\n",
    "#### 6~9행 : 패턴의 문자들을 비교해 모두 일치(j==m)하면 위치를 반환\n",
    "\n",
    "#### 10행 : 모두 일치하는 경우가 없으면 매칭 실패이고, -1을 반환"
   ]
  },
  {
   "cell_type": "markdown",
   "metadata": {},
   "source": [
    "### 5) 알고리즘 코드 (PY,C)"
   ]
  },
  {
   "cell_type": "code",
   "execution_count": null,
   "metadata": {},
   "outputs": [],
   "source": [
    "def string_matching(T, P):\n",
    "    n = len(T)\n",
    "    m = len(P)\n",
    "    for i in range(n-m+1) :\n",
    "        j = 0\n",
    "    while j < m and P[j]==T[i+j] :\n",
    "        j = j + 1\n",
    "    if j == m :\n",
    "        return i\n",
    "    return -1"
   ]
  },
  {
   "cell_type": "markdown",
   "metadata": {},
   "source": [
    "### 6) 테스트 코드  (PY,C) , 입력을 바꾸어서"
   ]
  },
  {
   "cell_type": "code",
   "execution_count": null,
   "metadata": {},
   "outputs": [],
   "source": [
    "def string_matching(T, P):\n",
    "    n = len(T)\n",
    "    m = len(P)\n",
    "    for i in range(n-m+1) :\n",
    "        j = 0\n",
    "    while j < m and P[j]==T[i+j] :\n",
    "        j = j + 1\n",
    "    if j == m :\n",
    "        return i\n",
    "    return -1\n",
    "\n",
    "text = 'HELLO WORLD'\n",
    "pattern = 'LO'\n",
    "print(pattern, 'in', text, '-->', string_matching(text, pattern))\n",
    "pattern = 'HI'\n",
    "print(pattern, 'in', text, '-->', string_matching(text, pattern))"
   ]
  },
  {
   "cell_type": "markdown",
   "metadata": {},
   "source": [
    "LO in HELLO WORLD --> -1\n",
    "HI in HELLO WORLD --> -1"
   ]
  },
  {
   "cell_type": "markdown",
   "metadata": {},
   "source": [
    "### 7) 수행 결과 (MD, 결과 캡춰하여 이미지로 삽입)"
   ]
  },
  {
   "cell_type": "markdown",
   "metadata": {},
   "source": [
    "### 8) 복잡도 분석"
   ]
  },
  {
   "cell_type": "markdown",
   "metadata": {},
   "source": [
    "#### 이 알고리즘의 처리시간은 입력 텍스트와 패턴이 길수록 더 많은 시간이 걸릴 것이다. 따라서 입력의 크기는 텍스트의 길이 n과 패턴의 길이 m으로 두 가지이다.\n",
    "#### 기본 연산은 문자의 비교 횟수가 가장 중요하므로 6행의 비교 연산이(P[j]==T[i+j])이 좋을 것이다.물론 7행을 선택해도 횟수는 동일하다."
   ]
  },
  {
   "cell_type": "markdown",
   "metadata": {},
   "source": [
    "### 9) 조별 협력 내용 (상호 지도)"
   ]
  },
  {
   "cell_type": "markdown",
   "metadata": {},
   "source": [
    "각자 푸는 단계에 대해 이해를 못하는 부분이 있으면 실습시간에 서로 물어보면서 문제를 풀어나갔습니다."
   ]
  }
 ],
 "metadata": {
  "language_info": {
   "name": "python"
  }
 },
 "nbformat": 4,
 "nbformat_minor": 2
}
