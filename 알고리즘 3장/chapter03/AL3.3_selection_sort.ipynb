{
 "cells": [
  {
   "cell_type": "markdown",
   "metadata": {},
   "source": [
    "### 1) 문제 정의 (MD)"
   ]
  },
  {
   "cell_type": "markdown",
   "metadata": {},
   "source": [
    "#### 텍스트의 첫 번째 위치에 패턴을 놓고 비교한다. 이 과정을 패턴을 오른쪽으로 한 칸씩 옮기면서 성공한 매칭이 나타날 때까지 반복한다."
   ]
  },
  {
   "cell_type": "markdown",
   "metadata": {},
   "source": [
    "### 2) 알고리즘 설명  (MD)"
   ]
  },
  {
   "cell_type": "markdown",
   "metadata": {},
   "source": [
    "#### 텍스트 HELLO WORLD"
   ]
  },
  {
   "cell_type": "markdown",
   "metadata": {},
   "source": [
    "#### 패 턴  LO"
   ]
  },
  {
   "cell_type": "markdown",
   "metadata": {},
   "source": [
    "##### 위 그림을 보면 패턴의 첫 번째 문자는 'L'인데 텍스트의 첫 번째 문자는 'H'로 서로 다르다.\n",
    "##### 따라서 패턴의 다음 문자 'O'를 비교할 필요도 없이 입력의 다음 문자로 이동한다.\n",
    "##### 이 과정을 패턴의 첫 번째 문자가 일치할 때까지 반복한다.\n",
    "##### 4번째 위치에서 패턴의 모든 문자가 일치되었으므로, 이 위치가 반환된다."
   ]
  },
  {
   "cell_type": "markdown",
   "metadata": {},
   "source": [
    "###  3) 손으로 푼 예제 (MD, 이미지 삽입)"
   ]
  },
  {
   "cell_type": "markdown",
   "metadata": {},
   "source": []
  },
  {
   "cell_type": "markdown",
   "metadata": {},
   "source": [
    "### 4) 알고리즘 개요(입력 변수, 출력, 알고리즘 개요) (MD)"
   ]
  },
  {
   "cell_type": "markdown",
   "metadata": {},
   "source": [
    "#### 1행 : 억지 기법 문자열 매칭 알고리즘이고 입력 문자열 T와 패턴 P가 입력\n",
    "\n",
    "#### 1행 : 억지 기법 문자열 매칭 알고리즘이고 입력 문자열 T와 패턴 P가 입력\n",
    "\n",
    "####\n",
    "\n",
    "####"
   ]
  },
  {
   "cell_type": "markdown",
   "metadata": {},
   "source": []
  }
 ],
 "metadata": {
  "language_info": {
   "name": "python"
  }
 },
 "nbformat": 4,
 "nbformat_minor": 2
}
