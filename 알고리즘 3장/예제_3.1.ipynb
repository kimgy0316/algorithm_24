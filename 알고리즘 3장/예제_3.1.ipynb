{
 "cells": [
  {
   "cell_type": "code",
   "execution_count": null,
   "metadata": {},
   "outputs": [],
   "source": [
    "def printstep(arr, val):\n",
    "    print(\" step %2d = \" % val, end='')\n",
    "    print(arr)\n",
    "\n",
    "def selection(A):\n",
    "    n=len(A)\n",
    "    for i in range(n-1):\n",
    "        least =i\n",
    "        for j in range(i+1, n):\n",
    "            if(A[j]<A[least]):\n",
    "                least =j\n",
    "        A[i], A[least] = A[least], A[i]\n",
    "        printstep(A, i+1)\n",
    "\n",
    "data = [5,3,8,4,9,1,6,2,7]\n",
    "print(\"original\", data)\n",
    "selection(data)\n",
    "print(\"selection : \",data)"
   ]
  }
 ],
 "metadata": {
  "language_info": {
   "name": "python"
  }
 },
 "nbformat": 4,
 "nbformat_minor": 2
}
