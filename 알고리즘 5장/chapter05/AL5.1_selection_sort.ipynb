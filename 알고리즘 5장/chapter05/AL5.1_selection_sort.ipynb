{
 "cells": [
  {
   "cell_type": "code",
   "execution_count": null,
   "metadata": {},
   "outputs": [],
   "source": [
    "def merge_sort(A, left, right):\n",
    "    if left < right:\n",
    "        mid = (left + right) // 2\n",
    "        merge_sort(A, left, mid)\n",
    "        merge_sort(A, mid + 1, right)\n",
    "\n",
    "        merge(A, left, mid, right)"
   ]
  },
  {
   "cell_type": "code",
   "execution_count": 18,
   "metadata": {},
   "outputs": [
    {
     "name": "stdout",
     "output_type": "stream",
     "text": [
      "Original: [5, 3, 8, 4, 9, 1, 6, 2, 7]\n",
      "Merge Sorted: [1, 2, 3, 4, 5, 6, 7, 8, 9]\n"
     ]
    }
   ],
   "source": [
    "data = [5, 3, 8, 4, 9, 1, 6, 2, 7]\n",
    "print(\"Original:\", data)\n",
    "merge_sort(data, 0, len(data) - 1)\n",
    "print(\"Merge Sorted:\", data)"
   ]
  },
  {
   "cell_type": "code",
   "execution_count": null,
   "metadata": {},
   "outputs": [],
   "source": []
  },
  {
   "cell_type": "markdown",
   "metadata": {},
   "source": [
    "### 1)문제 정의"
   ]
  },
  {
   "cell_type": "markdown",
   "metadata": {},
   "source": [
    "리스트의 분할을 계속하다가, 항목의 개수가 하나가 되면 정복된것이고,병합을 계속하여 정렬된 리스트를 완성하는 문제이다."
   ]
  },
  {
   "cell_type": "markdown",
   "metadata": {},
   "source": [
    "### 2) 알고리즘 설명"
   ]
  },
  {
   "cell_type": "markdown",
   "metadata": {},
   "source": [
    "두 부분의 리스트의 항목 A[i]와 A[j]를 비교하여 더 작은 요소를 먼저 새로운 리스트에 복사하고 인덱스 j와 임시리스트 k를 증가시켜야한다."
   ]
  },
  {
   "cell_type": "markdown",
   "metadata": {},
   "source": [
    "### 3) 손으로 푼 예제"
   ]
  },
  {
   "cell_type": "markdown",
   "metadata": {},
   "source": [
    "![염승태][![image.png](attachment:image.png)]"
   ]
  },
  {
   "cell_type": "markdown",
   "metadata": {},
   "source": [
    "### 4) 코드 개요"
   ]
  },
  {
   "cell_type": "markdown",
   "metadata": {},
   "source": [
    "함수명: merge_sort(A, left, right):\n",
    "입력값: data = [5, 3, 8, 4, 9, 1, 6, 2, 7], 입력 리스트 : A\n",
    "출력값: print(\"Original:\", data)\n",
    "merge_sort(data, 0, len(data) - 1)\n",
    "print(\"Merge Sorted:\", data)\n",
    "함수설명: 입력 리스트 A와 정렬하고자 하는 시작 항목과 끝 항목의 인덱스를 저장한다.\n",
    "항목이 2개 이상인 경우 분할 정복을 진행하고, 함수를 다시 불러와 부분리스트를 정렬한다. merge함수로 두 리스트 왼쪽과 오른쪽 리스트를 병합해 하나의 정렬된 리스트를 만든다."
   ]
  },
  {
   "cell_type": "markdown",
   "metadata": {},
   "source": [
    "### 5) 코드"
   ]
  },
  {
   "cell_type": "code",
   "execution_count": null,
   "metadata": {},
   "outputs": [
    {
     "name": "stdout",
     "output_type": "stream",
     "text": [
      "Original: [5, 3, 8, 4, 9, 1, 6, 2, 7]\n",
      "Merge Sorted: [1, 2, 3, 4, 5, 6, 7, 8, 9]\n"
     ]
    }
   ],
   "source": [
    "def merge(A, left, mid, right):\n",
    "    k = left\n",
    "    i = left\n",
    "    j = mid + 1\n",
    "    while i <= mid and j <= right:\n",
    "        if A[i] <= A[j]:\n",
    "            temp[k] = A[i]\n",
    "            i, k = i + 1, k + 1\n",
    "        else:\n",
    "            temp[k] = A[j]\n",
    "            j, k = j + 1, k + 1\n",
    "\n",
    "    if i > mid:\n",
    "        temp[k:k + right - j + 1] = A[j:right + 1]\n",
    "    else:\n",
    "        temp[k:k + mid - i + 1] = A[i:mid + 1]\n",
    "\n",
    "    A[left:right + 1] = temp[left:right + 1]\n",
    "\n",
    "def merge_sort(A, left, right):\n",
    "    if left < right:\n",
    "        mid = (left + right) // 2\n",
    "        merge_sort(A, left, mid)\n",
    "        merge_sort(A, mid + 1, right)\n",
    "\n",
    "        merge(A, left, mid, right)\n",
    "\n",
    "data = [5, 3, 8, 4, 9, 1, 6, 2, 7]\n",
    "temp = [0] * len(data)\n",
    "print(\"Original:\", data)\n",
    "merge_sort(data, 0, len(data) - 1)\n",
    "print(\"Merge Sorted:\", data)\n"
   ]
  },
  {
   "cell_type": "markdown",
   "metadata": {},
   "source": [
    "### 6)코드 테스트"
   ]
  },
  {
   "cell_type": "code",
   "execution_count": null,
   "metadata": {},
   "outputs": [
    {
     "name": "stdout",
     "output_type": "stream",
     "text": [
      "Original: [5, 6, 8, 4, 7, 3, 9, 1, 2]\n",
      "Merge Sorted: [1, 2, 3, 4, 5, 6, 7, 8, 9]\n"
     ]
    }
   ],
   "source": [
    "def merge(A, left, mid, right):\n",
    "    k = left\n",
    "    i = left\n",
    "    j = mid + 1\n",
    "    while i <= mid and j <= right:\n",
    "        if A[i] <= A[j]:\n",
    "            temp[k] = A[i]\n",
    "            i, k = i + 1, k + 1\n",
    "        else:\n",
    "            temp[k] = A[j]\n",
    "            j, k = j + 1, k + 1\n",
    "\n",
    "    if i > mid:\n",
    "        temp[k:k + right - j + 1] = A[j:right + 1]\n",
    "    else:\n",
    "        temp[k:k + mid - i + 1] = A[i:mid + 1]\n",
    "\n",
    "    A[left:right + 1] = temp[left:right + 1]\n",
    "\n",
    "def merge_sort(A, left, right):\n",
    "    if left < right:\n",
    "        mid = (left + right) // 2\n",
    "        merge_sort(A, left, mid)\n",
    "        merge_sort(A, mid + 1, right)\n",
    "\n",
    "        merge(A, left, mid, right)\n",
    "\n",
    "#data = [5, 3, 8, 4, 9, 1, 6, 2, 7]\n",
    "data = [5, 6, 8, 4, 7, 3, 9, 1, 2]\n",
    "temp = [0] * len(data)\n",
    "print(\"Original:\", data)\n",
    "merge_sort(data, 0, len(data) - 1)\n",
    "print(\"Merge Sorted:\", data)\n"
   ]
  },
  {
   "cell_type": "markdown",
   "metadata": {},
   "source": [
    "### 7) 수행결과"
   ]
  },
  {
   "cell_type": "markdown",
   "metadata": {},
   "source": [
    "[![1.png](attachment:1.png)]"
   ]
  },
  {
   "cell_type": "markdown",
   "metadata": {},
   "source": [
    "### 8) 복잡도 분석"
   ]
  },
  {
   "cell_type": "markdown",
   "metadata": {},
   "source": [
    "log2n"
   ]
  },
  {
   "cell_type": "markdown",
   "metadata": {},
   "source": [
    "### 9) 협력내용"
   ]
  }
 ],
 "metadata": {
  "kernelspec": {
   "display_name": "Python 3",
   "language": "python",
   "name": "python3"
  },
  "language_info": {
   "codemirror_mode": {
    "name": "ipython",
    "version": 3
   },
   "file_extension": ".py",
   "mimetype": "text/x-python",
   "name": "python",
   "nbconvert_exporter": "python",
   "pygments_lexer": "ipython3",
   "version": "3.12.2"
  }
 },
 "nbformat": 4,
 "nbformat_minor": 2
}
