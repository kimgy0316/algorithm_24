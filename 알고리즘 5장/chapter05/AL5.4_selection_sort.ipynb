{
 "cells": [
  {
   "cell_type": "markdown",
   "metadata": {},
   "source": [
    "### 01. 문제 정의"
   ]
  },
  {
   "cell_type": "markdown",
   "metadata": {},
   "source": [
    "이진트리의 높이를 구하는 알고리즘"
   ]
  },
  {
   "cell_type": "markdown",
   "metadata": {},
   "source": [
    "### 02. 알고리즘 설명"
   ]
  },
  {
   "cell_type": "markdown",
   "metadata": {},
   "source": [
    "루트가 None이면 공백 트리를 의미하며 높이 0을 바로 반환한다. 공백 트리가 아니면 두 서브 트리의 높이를 계산하는데, 순환 호출을 사용하여 마지막으로 결과를 비교해 더 큰 값에 1을 더한 값을 반황한다."
   ]
  },
  {
   "cell_type": "markdown",
   "metadata": {},
   "source": [
    "### 03. 손으로 푼 예제"
   ]
  },
  {
   "cell_type": "markdown",
   "metadata": {},
   "source": [
    "### 04. 알고리즘 개요(입력 변수, 출력, 알고리즘 개요) (MD)"
   ]
  },
  {
   "cell_type": "markdown",
   "metadata": {},
   "source": [
    "함수명 = calc_height -> 주어진 이진 트리의 높으를 구하는 함수\n",
    "입력 변수 = root\n",
    "출력 = 루트노드(root)의 서브트리들 중 가장 높은 높이에 1을 더한 값"
   ]
  },
  {
   "cell_type": "markdown",
   "metadata": {},
   "source": [
    "### 05. 알고리즘 코드 (PY,C)"
   ]
  },
  {
   "cell_type": "code",
   "execution_count": 1,
   "metadata": {},
   "outputs": [],
   "source": [
    "def calc_height(root):\n",
    "    if root is None:\n",
    "        return 0\n",
    "    hLeft = calc_height(root.left)\n",
    "    hRight = calc_height(root.right)\n",
    "    return max(hLeft, hRight) + 1"
   ]
  },
  {
   "cell_type": "markdown",
   "metadata": {},
   "source": [
    "### 06. 테스트 코드"
   ]
  },
  {
   "cell_type": "code",
   "execution_count": 2,
   "metadata": {},
   "outputs": [
    {
     "name": "stdout",
     "output_type": "stream",
     "text": [
      "트리의 높이 = 3\n"
     ]
    }
   ],
   "source": [
    "class TNode:\n",
    "    def __init__(self, data, left, right):\n",
    "        self.data = data\n",
    "        self.left = left\n",
    "        self.right = right\n",
    "\n",
    "def calc_height(root):\n",
    "    if root is None:\n",
    "        return 0\n",
    "    hLeft = calc_height(root.left)\n",
    "    hRight = calc_height(root.right)\n",
    "    return max(hLeft, hRight) + 1\n",
    "\n",
    "d = TNode('D', None, None)\n",
    "e = TNode('E', None, None)\n",
    "b = TNode('B', d, e)\n",
    "f = TNode('F', None, None)\n",
    "c = TNode('C', f, None)\n",
    "root = TNode('A', b, c)\n",
    "\n",
    "print(\"트리의 높이 =\", calc_height(root))"
   ]
  },
  {
   "cell_type": "markdown",
   "metadata": {},
   "source": [
    "### 07. 수행 결과"
   ]
  },
  {
   "attachments": {
    "image.png": {
     "image/png": "[encoded data removed]"
    }
   },
   "cell_type": "markdown",
   "metadata": {},
   "source": [
    "![image.png](attachment:image.png)"
   ]
  },
  {
   "cell_type": "markdown",
   "metadata": {},
   "source": [
    "### 08. 복잡도 분석"
   ]
  },
  {
   "cell_type": "markdown",
   "metadata": {},
   "source": [
    "O(n)\n",
    "전체 노드 개수가 n인 이진트리의 좌우 서브 트리의 노드 수를 각각 n(left)와 n(right)라 한다면 T(n)은 다음과 같이 순환적으로 표현할 수 있다.\n",
    "T(n)=T(n(left))+T(n(right))+1  for n>0\n",
    "T(0)=0"
   ]
  },
  {
   "cell_type": "markdown",
   "metadata": {},
   "source": [
    "### 09. 조별 협력 내용"
   ]
  },
  {
   "cell_type": "markdown",
   "metadata": {},
   "source": [
    "실습시간 중 이해가 되지 않는 부분에 대해 팀원들과 모여 상의하며 문제를 해결해 나아갔습니다."
   ]
  }
 ],
 "metadata": {
  "kernelspec": {
   "display_name": "Python 3",
   "language": "python",
   "name": "python3"
  },
  "language_info": {
   "codemirror_mode": {
    "name": "ipython",
    "version": 3
   },
   "file_extension": ".py",
   "mimetype": "text/x-python",
   "name": "python",
   "nbconvert_exporter": "python",
   "pygments_lexer": "ipython3",
   "version": "3.12.2"
  }
 },
 "nbformat": 4,
 "nbformat_minor": 2
}
